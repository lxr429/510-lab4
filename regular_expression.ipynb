{
 "cells": [
  {
   "cell_type": "code",
   "execution_count": 2,
   "metadata": {},
   "outputs": [],
   "source": [
    "import re"
   ]
  },
  {
   "cell_type": "markdown",
   "metadata": {},
   "source": [
    "## Basic Syntax\n",
    "\n",
    "- `.`: Matches any single character except newline\n",
    "- `^`: Matches the start of the string\n",
    "- `$`: Matches the end of the string\n",
    "- `*`: Matches 0 or more repetitions of the preceding element\n",
    "- `+`: Matches 1 or more repetitions of the preceding element\n",
    "- `?`: Matches 0 or 1 repetition of the preceding element\n",
    "- `{n}`: Matches exactly n repetitions of the preceding element\n",
    "- `{n,}`: Matches at least n repetitions of the preceding element\n",
    "- `{n,m}`: Matches between n and m repetitions of the preceding element\n",
    "- `|`: Alternation, matches either the pattern before or the pattern after the symbol\n",
    "\n",
    "## Character Classes\n",
    "\n",
    "- `[abc]`: Matches any one of the characters a, b, or c\n",
    "- `[^abc]`: Matches any character that is not a, b, or c\n",
    "- `[a-z]`: Matches any character from a to z\n",
    "- `[A-Z]`: Matches any character from A to Z\n",
    "- `[0-9]`: Matches any digit\n",
    "- `\\d`: Matches any digit (equivalent to [0-9])\n",
    "- `\\D`: Matches any non-digit\n",
    "- `\\w`: Matches any word character (equivalent to [a-zA-Z0-9_])\n",
    "- `\\W`: Matches any non-word character\n",
    "- `\\s`: Matches any whitespace character\n",
    "- `\\S`: Matches any non-whitespace character\n",
    "\n",
    "## Special Characters\n",
    "\n",
    "- `\\`: Escapes a special character\n",
    "- `()` : Defines a group\n",
    "- `(?:...)`: Non-capturing group\n",
    "- `(?=...)`: Positive lookahead assertion\n",
    "- `(?!...)`: Negative lookahead assertion\n",
    "\n",
    "## Examples\n",
    "\n",
    "- `abc`: Matches the string \"abc\"\n",
    "- `abc|def`: Matches \"abc\" or \"def\"\n",
    "- `^abc`: Matches any string that starts with \"abc\"\n",
    "- `abc$`: Matches a string that ends with \"abc\"\n",
    "- `a.b`: Matches any string containing \"a\", any character, then \"b\"\n",
    "- `a*`: Matches 0 or more 'a's\n",
    "- `a+`: Matches 1 or more 'a's\n",
    "- `a?`: Matches 0 or 1 'a'\n",
    "- `\\d{2,4}`: Matches between 2 and 4 digits"
   ]
  },
  {
   "cell_type": "code",
   "execution_count": 3,
   "metadata": {},
   "outputs": [],
   "source": [
    "s = '''\n",
    "<a class=\"nav-link\" href=\"https://amazon.com/categories/ski\">Ski</a>\n",
    "<a class=\"product-link\" href=\"https://amazon.com/p/1234567890/awesome-product-1\">Coffee beans</a>\n",
    "<a class=\"product-link\" href=\"https://amazon.com/p/6454343333/ok-product-2\">Backcountry Ski</a>\n",
    "<a class=\"product-link\" href=\"https://amazon.com/p/6543565454/great-product-1\">Book</a>\n",
    "<a class=\"footer-link\" href=\"https://amazon.com/about-us\">About Us</a>\n",
    "'''"
   ]
  },
  {
   "cell_type": "code",
   "execution_count": 5,
   "metadata": {},
   "outputs": [
    {
     "data": {
      "text/plain": [
       "['<a class=\"product-link\" href=\"https://amazon.com/p/1234567890/awesome-product-1\">Coffee beans</a>']"
      ]
     },
     "execution_count": 5,
     "metadata": {},
     "output_type": "execute_result"
    }
   ],
   "source": [
    "# Extract only the product links\n",
    "# Expected output:\n",
    "# https://amazon.com/p/1234567890/awesome-product-1\n",
    "# https://amazon.com/p/6454343333/ok-product-2\n",
    "# https://amazon.com/p/6543565454/great-product-1\n",
    "\n",
    "# b'' is a byte string\n",
    "# r'\\n\\t' is a raw string\n",
    "# f'{variable1}' is a formatted string\n",
    "\n",
    "pattern = r'<a class=\"product-link\" href=\"https://amazon.com/p/1234567890/awesome-product-1\">Coffee beans</a>'\n",
    "\n",
    "re.findall(pattern, s)"
   ]
  },
  {
   "cell_type": "code",
   "execution_count": 6,
   "metadata": {},
   "outputs": [
    {
     "data": {
      "text/plain": [
       "['1', '2', '3']"
      ]
     },
     "execution_count": 6,
     "metadata": {},
     "output_type": "execute_result"
    }
   ],
   "source": [
    "re.findall(r'\\d', '123')"
   ]
  },
  {
   "cell_type": "code",
   "execution_count": 7,
   "metadata": {},
   "outputs": [
    {
     "data": {
      "text/plain": [
       "['123']"
      ]
     },
     "execution_count": 7,
     "metadata": {},
     "output_type": "execute_result"
    }
   ],
   "source": [
    "re.findall(r'\\d\\d\\d', '123')"
   ]
  },
  {
   "cell_type": "code",
   "execution_count": 9,
   "metadata": {},
   "outputs": [
    {
     "data": {
      "text/plain": [
       "['123']"
      ]
     },
     "execution_count": 9,
     "metadata": {},
     "output_type": "execute_result"
    }
   ],
   "source": [
    "re.findall(r'\\d{3}', 'dfgh123ghjkl')"
   ]
  },
  {
   "cell_type": "code",
   "execution_count": 13,
   "metadata": {},
   "outputs": [
    {
     "data": {
      "text/plain": [
       "['<a class=\"product-link\" href=\"https://amazon.com/p/1234567890/awesome-product-1\">',\n",
       " '<a class=\"product-link\" href=\"https://amazon.com/p/6454343333/ok-product-2\">',\n",
       " '<a class=\"product-link\" href=\"https://amazon.com/p/6543565454/great-product-1\">']"
      ]
     },
     "execution_count": 13,
     "metadata": {},
     "output_type": "execute_result"
    }
   ],
   "source": [
    "re.findall(r'<a class=\"product-link\" href=\"https://amazon.com/p/\\d{10}/.+\">', s)"
   ]
  },
  {
   "cell_type": "code",
   "execution_count": 10,
   "metadata": {},
   "outputs": [
    {
     "data": {
      "text/plain": [
       "['https://amazon.com/p/1234567890/awesome-product-1',\n",
       " 'https://amazon.com/p/6454343333/ok-product-2',\n",
       " 'https://amazon.com/p/6543565454/great-product-1']"
      ]
     },
     "execution_count": 10,
     "metadata": {},
     "output_type": "execute_result"
    }
   ],
   "source": [
    "re.findall(r'<a href=\"(https://amazon.com/p/\\d+/.+)\">', s)"
   ]
  },
  {
   "cell_type": "code",
   "execution_count": 19,
   "metadata": {},
   "outputs": [
    {
     "data": {
      "text/plain": [
       "['<a href=\"https://amazon.com/p/6543565454/great-product-1\">']"
      ]
     },
     "execution_count": 19,
     "metadata": {},
     "output_type": "execute_result"
    }
   ],
   "source": [
    "b = '''<a href=\"https://amazon.com/p/6543565454/great-product-1\"> <img></img> </a>'''\n",
    "\n",
    "re.findall(r'<a href=\"https://amazon.com/p/6543565454/.+?\">', b)"
   ]
  },
  {
   "cell_type": "markdown",
   "metadata": {},
   "source": [
    "# Practice Problems"
   ]
  },
  {
   "cell_type": "markdown",
   "metadata": {},
   "source": [
    "### Problem 1: Email Extraction\n",
    "\n",
    "**Problem**: Extract emails from a given string.  \n",
    "**String**: \"Contact us at support@example.com or sales@example.org\"\n",
    "\n",
    "[\"support@example.com\", \"sales@example.org\"]"
   ]
  },
  {
   "cell_type": "code",
   "execution_count": 1,
   "metadata": {},
   "outputs": [
    {
     "name": "stdout",
     "output_type": "stream",
     "text": [
      "['support@example.com', 'sales@example.org']\n"
     ]
    }
   ],
   "source": [
    "# Problem 1\n",
    "\n",
    "import re\n",
    "\n",
    "input_string = \"Contact us at support@example.com or sales@example.org\"\n",
    "email_pattern = r'\\b[A-Za-z0-9._%+-]+@[A-Za-z0-9.-]+\\.[A-Z|a-z]{2,}\\b'\n",
    "\n",
    "emails = re.findall(email_pattern, input_string)\n",
    "print(emails)\n"
   ]
  },
  {
   "cell_type": "markdown",
   "metadata": {},
   "source": [
    "### Problem 2: Phone Number Validation\n",
    "\n",
    "**Problem**: Validate and extract US phone numbers in the format xxx-xxx-xxxx.  \n",
    "**String**: \"My numbers are 123-456-7890 or 333-333-3333\""
   ]
  },
  {
   "cell_type": "code",
   "execution_count": 2,
   "metadata": {},
   "outputs": [
    {
     "name": "stdout",
     "output_type": "stream",
     "text": [
      "['123-456-7890', '333-333-3333']\n"
     ]
    }
   ],
   "source": [
    "# Problem 2\n",
    "\n",
    "import re\n",
    "\n",
    "input_string = \"My numbers are 123-456-7890 or 333-333-3333\"\n",
    "phone_pattern = r'\\b\\d{3}-\\d{3}-\\d{4}\\b'\n",
    "\n",
    "phone_number = re.findall(phone_pattern, input_string)\n",
    "print(phone_number)\n"
   ]
  },
  {
   "cell_type": "markdown",
   "metadata": {},
   "source": [
    "### Problem 3: Password Strength Check\n",
    "\n",
    "**Problem**: Check if a password is at least 8 characters long, contains a digit, an uppercase, and a lowercase letter.  \n",
    "**String**: \"Password1\""
   ]
  },
  {
   "cell_type": "code",
   "execution_count": 3,
   "metadata": {},
   "outputs": [
    {
     "name": "stdout",
     "output_type": "stream",
     "text": [
      "Password is valid.\n"
     ]
    }
   ],
   "source": [
    "# Problem 3\n",
    "\n",
    "import re\n",
    "\n",
    "password = \"Password1\"\n",
    "password_pattern = r'^(?=.*[a-z])(?=.*[A-Z])(?=.*\\d).{8,}$'\n",
    "\n",
    "if re.match(password_pattern, password):\n",
    "    print(\"Password is valid.\")\n",
    "else:\n",
    "    print(\"Password is invalid.\")\n"
   ]
  },
  {
   "cell_type": "markdown",
   "metadata": {},
   "source": [
    "### Problem 4: Extracting Domain Name\n",
    "\n",
    "**Problem**: Extract the domain name from an email address.  \n",
    "**String**: \"user@example.com\""
   ]
  },
  {
   "cell_type": "code",
   "execution_count": 4,
   "metadata": {},
   "outputs": [
    {
     "name": "stdout",
     "output_type": "stream",
     "text": [
      "Domain Name: example.com\n"
     ]
    }
   ],
   "source": [
    "# Problem 4\n",
    "\n",
    "import re\n",
    "\n",
    "email_address = \"user@example.com\"\n",
    "domain_pattern = r'@([A-Za-z0-9.-]+)$'\n",
    "\n",
    "match = re.search(domain_pattern, email_address)\n",
    "\n",
    "if match:\n",
    "    domain_name = match.group(1)\n",
    "    print(\"Domain Name:\", domain_name)\n",
    "else:\n",
    "    print(\"Invalid email address.\")\n"
   ]
  },
  {
   "cell_type": "markdown",
   "metadata": {},
   "source": [
    "### Problem 5: Validating an IP Address\n",
    "\n",
    "**Problem**: Check if a string is a valid IPv4 address.  \n",
    "**String**: \"192.168.1.1\""
   ]
  },
  {
   "cell_type": "code",
   "execution_count": 5,
   "metadata": {},
   "outputs": [
    {
     "name": "stdout",
     "output_type": "stream",
     "text": [
      "Valid IPv4 address.\n"
     ]
    }
   ],
   "source": [
    "# Problem 5\n",
    "\n",
    "import re\n",
    "\n",
    "ip_address = \"192.168.1.1\"\n",
    "ip_pattern = r'^(25[0-5]|2[0-4][0-9]|[01]?[0-9][0-9]?)\\.((25[0-5]|2[0-4][0-9]|[01]?[0-9][0-9]?)\\.){2}(25[0-5]|2[0-4][0-9]|[01]?[0-9][0-9]?)$'\n",
    "\n",
    "if re.match(ip_pattern, ip_address):\n",
    "    print(\"Valid IPv4 address.\")\n",
    "else:\n",
    "    print(\"Invalid IPv4 address.\")\n"
   ]
  }
 ],
 "metadata": {
  "kernelspec": {
   "display_name": "Python 3",
   "language": "python",
   "name": "python3"
  },
  "language_info": {
   "codemirror_mode": {
    "name": "ipython",
    "version": 3
   },
   "file_extension": ".py",
   "mimetype": "text/x-python",
   "name": "python",
   "nbconvert_exporter": "python",
   "pygments_lexer": "ipython3",
   "version": "3.12.0"
  }
 },
 "nbformat": 4,
 "nbformat_minor": 2
}
